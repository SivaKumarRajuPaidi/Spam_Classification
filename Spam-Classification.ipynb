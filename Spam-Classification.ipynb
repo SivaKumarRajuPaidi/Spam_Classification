{
 "cells": [
  {
   "cell_type": "markdown",
   "id": "c375b580-4205-4fc4-b15a-7fb0431f3c73",
   "metadata": {},
   "source": [
    "## Spam Message Classification"
   ]
  },
  {
   "cell_type": "code",
   "execution_count": null,
   "id": "57bef71a-3fbe-4eb6-9bf7-82d9e15fb5b0",
   "metadata": {},
   "outputs": [],
   "source": []
  }
 ],
 "metadata": {
  "kernelspec": {
   "display_name": "Python 3 (ipykernel)",
   "language": "python",
   "name": "python3"
  },
  "language_info": {
   "codemirror_mode": {
    "name": "ipython",
    "version": 3
   },
   "file_extension": ".py",
   "mimetype": "text/x-python",
   "name": "python",
   "nbconvert_exporter": "python",
   "pygments_lexer": "ipython3",
   "version": "3.11.1"
  }
 },
 "nbformat": 4,
 "nbformat_minor": 5
}
