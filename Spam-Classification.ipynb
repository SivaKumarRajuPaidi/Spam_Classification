{
  "cells": [
    {
      "cell_type": "markdown",
      "metadata": {
        "id": "view-in-github",
        "colab_type": "text"
      },
      "source": [
        "<a href=\"https://colab.research.google.com/github/SivaKumarRajuPaidi/Spam_Classification/blob/main/Spam-Classification.ipynb\" target=\"_parent\"><img src=\"https://colab.research.google.com/assets/colab-badge.svg\" alt=\"Open In Colab\"/></a>"
      ]
    },
    {
      "cell_type": "markdown",
      "id": "c375b580-4205-4fc4-b15a-7fb0431f3c73",
      "metadata": {
        "id": "c375b580-4205-4fc4-b15a-7fb0431f3c73"
      },
      "source": [
        "## Spam Message Classification"
      ]
    },
    {
      "cell_type": "code",
      "source": [],
      "metadata": {
        "id": "bQN02bXi5hbz"
      },
      "id": "bQN02bXi5hbz",
      "execution_count": null,
      "outputs": []
    },
    {
      "cell_type": "markdown",
      "source": [
        "### Data Preprocessing"
      ],
      "metadata": {
        "id": "RO3T9PTn5isx"
      },
      "id": "RO3T9PTn5isx"
    },
    {
      "cell_type": "code",
      "execution_count": null,
      "id": "57bef71a-3fbe-4eb6-9bf7-82d9e15fb5b0",
      "metadata": {
        "id": "57bef71a-3fbe-4eb6-9bf7-82d9e15fb5b0"
      },
      "outputs": [],
      "source": []
    },
    {
      "cell_type": "markdown",
      "source": [
        "### 2. Building Model - Random Forest"
      ],
      "metadata": {
        "id": "KD0ODgys5paN"
      },
      "id": "KD0ODgys5paN"
    },
    {
      "cell_type": "code",
      "source": [],
      "metadata": {
        "id": "_7aMg4545pH9"
      },
      "id": "_7aMg4545pH9",
      "execution_count": null,
      "outputs": []
    }
  ],
  "metadata": {
    "kernelspec": {
      "display_name": "Python 3 (ipykernel)",
      "language": "python",
      "name": "python3"
    },
    "language_info": {
      "codemirror_mode": {
        "name": "ipython",
        "version": 3
      },
      "file_extension": ".py",
      "mimetype": "text/x-python",
      "name": "python",
      "nbconvert_exporter": "python",
      "pygments_lexer": "ipython3",
      "version": "3.11.1"
    },
    "colab": {
      "provenance": [],
      "include_colab_link": true
    }
  },
  "nbformat": 4,
  "nbformat_minor": 5
}